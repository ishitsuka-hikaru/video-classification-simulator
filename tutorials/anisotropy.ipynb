{
 "cells": [
  {
   "cell_type": "markdown",
   "metadata": {},
   "source": [
    "# Anisotropy in the video classification\n",
    "\n",
    "[Sweep data analysis](sweep_data.ipynb) の具体例として、4 種類の MakeHuman モデルに対して ResNets スコアの異方性を評価する。\n",
    "\n",
    "このチュートリアルで使用するデータは次のリンク先からダウンロードできる（AIST internal）：\n",
    "- <https://aistmail-my.sharepoint.com/:f:/g/personal/ishitsuka_hikaru_aist_go_jp/ElYVU7oewbJMoBxCKWSJjcUBcl0idteiY3ZyBAHRm2SJ-Q?e=wbpzFS>"
   ]
  },
  {
   "cell_type": "code",
   "execution_count": 1,
   "metadata": {},
   "outputs": [],
   "source": [
    "%matplotlib inline\n",
    "import sys\n",
    "from IPython.display import Image, display\n",
    "from ipywidgets import widgets, HBox\n",
    "sys.path.append('../utils/')\n",
    "from sweep_data import SweepData"
   ]
  },
  {
   "cell_type": "markdown",
   "metadata": {},
   "source": [
    "入力となる MakeHuman モデルは次の 4 つで、モーションラベルは `walk` である："
   ]
  },
  {
   "cell_type": "code",
   "execution_count": 2,
   "metadata": {},
   "outputs": [
    {
     "data": {
      "application/vnd.jupyter.widget-view+json": {
       "model_id": "36a7a0ee3dd0479d842b2451164dd3bb",
       "version_major": 2,
       "version_minor": 0
      },
      "text/plain": [
       "HBox(children=(Image(value=b'GIF89a\\x80\\x02\\x80\\x02\\xf7\\x001\\x00\\xff\\x00\\x1c<h!7Z!7a\"6I$4B%/9%5R%>a\\'?g(=Q)8I*…"
      ]
     },
     "metadata": {},
     "output_type": "display_data"
    }
   ],
   "source": [
    "f00 = widgets.Image(value=open('../imgs/f00_walk_144_34_none.gif', 'rb').read(), width=200, height=200)\n",
    "f02 = widgets.Image(value=open('../imgs/f02_walk_144_34_none.gif', 'rb').read(), width=200, height=200)\n",
    "m02 = widgets.Image(value=open('../imgs/m02_walk_144_34_none.gif', 'rb').read(), width=200, height=200)\n",
    "m03 = widgets.Image(value=open('../imgs/m03_walk_144_34_none.gif', 'rb').read(), width=200, height=200)\n",
    "\n",
    "display(HBox([f00, f02, m02, m03]))"
   ]
  },
  {
   "cell_type": "markdown",
   "metadata": {},
   "source": [
    "これらの 3D-ResNets スコアを半球面上のヒートマップで表すと次のようになる："
   ]
  },
  {
   "cell_type": "code",
   "execution_count": 3,
   "metadata": {},
   "outputs": [
    {
     "data": {
      "application/vnd.jupyter.widget-view+json": {
       "model_id": "84ab268f9b9b4fb9aae9da1f9bd0f7ec",
       "version_major": 2,
       "version_minor": 0
      },
      "text/plain": [
       "HBox(children=(Image(value=b'\\x89PNG\\r\\n\\x1a\\n\\x00\\x00\\x00\\rIHDR\\x00\\x00\\x01h\\x00\\x00\\x01 \\x08\\x06\\x00\\x00\\x00…"
      ]
     },
     "metadata": {},
     "output_type": "display_data"
    }
   ],
   "source": [
    "fpaths = [\n",
    "    'data/f00_walk_r=10_lon=0-360-5_lat=0-90-5/',\n",
    "    'data/f02_walk_r=10_lon=0-360-5_lat=0-90-5/',\n",
    "    'data/m02_walk_r=10_lon=0-360-5_lat=0-90-5/',\n",
    "    'data/m03_walk_r=10_lon=0-360-5_lat=0-90-5/'\n",
    "]\n",
    "\n",
    "hmaps = []\n",
    "for fpath in fpaths:\n",
    "    sd = SweepData(\n",
    "        root=fpath,\n",
    "        fixed_axis='r',\n",
    "        lon_range=[-180, 180, 5],\n",
    "        lat_range=[0, 90, 5]\n",
    "    )\n",
    "    model, label, *_ = fpath.split('/')[1].split('_')\n",
    "    sd.heatmap(label)\n",
    "    save_path = f'data/{model}_{label}_r.png'\n",
    "    sd.plot(projection='polar', title=f'{model}, {label}', save_path=save_path)\n",
    "    hmaps.append(widgets.Image(value=open(save_path, 'rb').read(), width=230, height=230))\n",
    "    \n",
    "display(HBox(hmaps))"
   ]
  },
  {
   "cell_type": "markdown",
   "metadata": {},
   "source": [
    "この例ではどのモデルも天頂近くから見た場合のスコアが小さくなっている。また、モデルによるスコアの偏りはそれほどない。\n",
    "\n",
    "次に、緯度を 30°に固定して半球中心からの距離を 1&ndash;30 m の範囲で変化させた場合のスコアをヒートマップで表すと次のようになる："
   ]
  },
  {
   "cell_type": "code",
   "execution_count": 4,
   "metadata": {},
   "outputs": [
    {
     "data": {
      "application/vnd.jupyter.widget-view+json": {
       "model_id": "2d0e29f6960448e390632d9a628f2740",
       "version_major": 2,
       "version_minor": 0
      },
      "text/plain": [
       "HBox(children=(Image(value=b'\\x89PNG\\r\\n\\x1a\\n\\x00\\x00\\x00\\rIHDR\\x00\\x00\\x01h\\x00\\x00\\x01 \\x08\\x06\\x00\\x00\\x00…"
      ]
     },
     "metadata": {},
     "output_type": "display_data"
    }
   ],
   "source": [
    "fpaths = [\n",
    "    'data/f00_walk_r=1-30-1_lon=0-360-5_lat=30/',\n",
    "    'data/f02_walk_r=1-30-1_lon=0-360-5_lat=30/',\n",
    "    'data/m02_walk_r=1-30-1_lon=0-360-5_lat=30/',\n",
    "    'data/m03_walk_r=1-30-1_lon=0-360-5_lat=30/'\n",
    "]\n",
    "\n",
    "hmaps = []\n",
    "for fpath in fpaths:\n",
    "    sd = SweepData(\n",
    "        root=fpath,\n",
    "        fixed_axis='lat',\n",
    "        r_range=[1, 30, 1],\n",
    "        lon_range=[-180, 180, 5]\n",
    "    )\n",
    "    model, label, *_ = fpath.split('/')[1].split('_')\n",
    "    sd.heatmap(label)\n",
    "    save_path = f'data/{model}_{label}_lat.png'\n",
    "    sd.plot(projection='polar', title=f'{model}, {label}', save_path=save_path)\n",
    "    hmaps.append(widgets.Image(value=open(save_path, 'rb').read(), width=230, height=230))\n",
    "    \n",
    "display(HBox(hmaps))"
   ]
  },
  {
   "cell_type": "markdown",
   "metadata": {},
   "source": [
    "こちらはモデルによる偏りがある。モデル f00 とモデル m03 のスコアが比較的高く、モデル f02 のスコアが低い。モデル f02 は 15 m 以上離れるとほとんど動作を認識できていない。"
   ]
  }
 ],
 "metadata": {
  "kernelspec": {
   "display_name": "Python 3",
   "language": "python",
   "name": "python3"
  },
  "language_info": {
   "codemirror_mode": {
    "name": "ipython",
    "version": 3
   },
   "file_extension": ".py",
   "mimetype": "text/x-python",
   "name": "python",
   "nbconvert_exporter": "python",
   "pygments_lexer": "ipython3",
   "version": "3.6.9"
  }
 },
 "nbformat": 4,
 "nbformat_minor": 4
}
